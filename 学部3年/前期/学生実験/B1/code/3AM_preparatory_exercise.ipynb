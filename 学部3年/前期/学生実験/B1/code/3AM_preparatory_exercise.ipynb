{
 "cells": [
  {
   "cell_type": "markdown",
   "metadata": {},
   "source": [
    "## 予習回\n",
    "予習回では，pythonパッケージであるMatplotlib(プロット)，Numpy(数値配列操作)，pandas(表データ操作)などを用いてデータ可視化に取り組んでもらいます"
   ]
  },
  {
   "cell_type": "markdown",
   "metadata": {},
   "source": [
    "### Programming\n",
    "#### **None** を正しいコードに書き換えてください"
   ]
  },
  {
   "cell_type": "code",
   "execution_count": null,
   "metadata": {},
   "outputs": [],
   "source": [
    "# pythonパッケージのインポート\n",
    "import None as np  # NumPy: 配列を扱ったり，数値演算を行う\n",
    "import None.pyplot as plt  # Matplotlib: プロットしたりグラフにしたりする\n",
    "import None  # pandas: 表データを扱う (Excelに似てる)\n",
    "\n",
    "import os  # os: ファイルパスなどの操作\n",
    "# OS：Windows、MacOSなどといったコンピュータを動作させるのに必要な機能を備えたシステム\n",
    "# OSの種類によって操作の仕方が異なってしまうので，python上で書かれたコードをどのOSでも動くようにする"
   ]
  },
  {
   "cell_type": "code",
   "execution_count": null,
   "metadata": {},
   "outputs": [],
   "source": [
    "\n",
    "# .npy fileへの\"絶対パス\"を作成 (NumPyで保存された配列ファイル)\n",
    "first_npy_img_path = None # 最初のデータファイル(1.npy)へのパス\n",
    "\n",
    "# NumPy配列として保存された画像データを読み込む\n",
    "first_data = np.load(None)\n",
    "\n",
    "# Matplotlibを使って画像データを表示\n",
    "plt.imshow(None)  # 画像表示 (必要に応じて色調節ができます)\n",
    "plt.colorbar()  # 色のスケールバーを画像の隣に追加\n",
    "plt.show()  # 全て表示"
   ]
  },
  {
   "cell_type": "code",
   "execution_count": null,
   "metadata": {},
   "outputs": [],
   "source": [
    "# CSVファイル（データのテーブル）をpandas DataFrameに読み込む\n",
    "csv_path = None  # CSVファイルへのパス\n",
    "dataset = pandas.read_csv(csv_path)  # CSVファイルを読み込んで，表のような形にする\n",
    "None.head()  # 内容確認のため，最初の5行を表示するコードを書いてみてください！"
   ]
  },
  {
   "cell_type": "code",
   "execution_count": null,
   "metadata": {},
   "outputs": [],
   "source": [
    "# \"A\"の列の数値を全て表示\n",
    "dataset[\"A\"]"
   ]
  },
  {
   "cell_type": "code",
   "execution_count": null,
   "metadata": {},
   "outputs": [],
   "source": [
    "# 'A'の列の一意な値を表示（.unique():重複がない値を表示する）\n",
    "# 'A'の列に異なる値がいくつあるかを教えてくれる\n",
    "dataset[\"A\"].unique()\n"
   ]
  },
  {
   "cell_type": "code",
   "execution_count": null,
   "metadata": {},
   "outputs": [],
   "source": [
    "# \"c0\"の列の値をすべて表示\n",
    "None[None]"
   ]
  },
  {
   "cell_type": "code",
   "execution_count": null,
   "metadata": {},
   "outputs": [],
   "source": [
    "# 'c0'の列の一意な値を表示\n",
    "None[None].None()"
   ]
  },
  {
   "cell_type": "code",
   "execution_count": null,
   "metadata": {},
   "outputs": [],
   "source": [
    "# \"Energy\"の列の値をすべて表示\n",
    "None[None]\n"
   ]
  },
  {
   "cell_type": "code",
   "execution_count": null,
   "metadata": {},
   "outputs": [],
   "source": [
    "# 'Energy'の列の一意な値を表示\n",
    "None[None].None()"
   ]
  },
  {
   "cell_type": "code",
   "execution_count": null,
   "metadata": {},
   "outputs": [],
   "source": [
    "# \"Energy\" の値がどのような分布をしているのか，ヒストグラムを作って確認します\n",
    "dataset[\"Energy\"].hist(bins=50)  #\"bins=50\"：エネルギー値の分布を\"50本\"のヒストグラムに分割\n",
    "plt.xlabel(\"Energy\")  # 水平軸（x軸）の軸ラベル\n",
    "plt.ylabel(\"Occurence number\")  # 垂直軸（y軸）の軸ラベル (各rangeが何回現れたかを表す)"
   ]
  },
  {
   "cell_type": "code",
   "execution_count": null,
   "metadata": {},
   "outputs": [],
   "source": [
    "# \"Energy\" 列の最大値を探す\n",
    "None[None].max()"
   ]
  },
  {
   "cell_type": "code",
   "execution_count": null,
   "metadata": {},
   "outputs": [],
   "source": [
    "dataset[\"Energy\"] == dataset[\"Energy\"].max()"
   ]
  },
  {
   "cell_type": "code",
   "execution_count": null,
   "metadata": {},
   "outputs": [],
   "source": [
    "# \"Energy\"の最大値と等しい値をもつ行を探す\n",
    "dataset[dataset[\"Energy\"] == dataset[\"Energy\"].max()]\n"
   ]
  },
  {
   "cell_type": "code",
   "execution_count": null,
   "metadata": {},
   "outputs": [],
   "source": [
    "# \"Energy\"の最小値と等しい値をもつ行を探す\n",
    "dataset[None[None] == None[None].None()]\n"
   ]
  }
 ],
 "metadata": {
  "kernelspec": {
   "display_name": ".venv",
   "language": "python",
   "name": "python3"
  },
  "language_info": {
   "codemirror_mode": {
    "name": "ipython",
    "version": 3
   },
   "file_extension": ".py",
   "mimetype": "text/x-python",
   "name": "python",
   "nbconvert_exporter": "python",
   "pygments_lexer": "ipython3",
   "version": "3.10.15"
  }
 },
 "nbformat": 4,
 "nbformat_minor": 2
}
