{
 "cells": [
  {
   "attachments": {},
   "cell_type": "markdown",
   "metadata": {},
   "source": [
    "# Python hands on - Lecture 1\n"
   ]
  },
  {
   "attachments": {},
   "cell_type": "markdown",
   "metadata": {},
   "source": [
    "## Pythonとは\n",
    "\n",
    "1991年に Guido van Rossum によって作られたプログラミング言語で、簡単な文法であることを念頭に開発された。<br>\n"
   ]
  },
  {
   "attachments": {},
   "cell_type": "markdown",
   "metadata": {},
   "source": [
    "## Jupyter notebookとは\n",
    "\n",
    "ドキュメントとしてプログラムを記録していくためのツールです<br>\n",
    "コードとその実行結果を参照しながら、ノートのように実行や結果の閲覧ができるため、研究用ツールとして非常に便利です。"
   ]
  },
  {
   "attachments": {},
   "cell_type": "markdown",
   "metadata": {},
   "source": [
    "## Basic Python Syntax\n",
    "\n",
    "それでは、Pythonの基礎について学習していきましょう<br>\n",
    "セクションごとに演習問題があるので、チャレンジしてみてください"
   ]
  },
  {
   "attachments": {},
   "cell_type": "markdown",
   "metadata": {},
   "source": [
    "### Print function"
   ]
  },
  {
   "cell_type": "code",
   "execution_count": null,
   "metadata": {},
   "outputs": [],
   "source": [
    "# 以下のコードはPythonの基本的な機能を紹介するためのものです。\n",
    "# '#'はコメントを表し、プログラムの実行時に無視されます。\n",
    "\n",
    "# 'print()'関数は、括弧内の文字列や数値を出力するために使用されます。\n",
    "print(\"Hello Word!\")\n"
   ]
  },
  {
   "cell_type": "code",
   "execution_count": null,
   "metadata": {},
   "outputs": [],
   "source": [
    "# はじめてのPythonという文字列を出力してみましょう。\n",
    "print(\"はじめてのPython\")\n",
    "\n",
    "# 数値を直接出力することもできます。\n",
    "print(3)\n",
    "\n",
    "# 数値の計算結果を出力することもできます。\n",
    "print(3 + 5)\n",
    "\n",
    "\n",
    "# 文字列同士を結合することもできます。\n",
    "print(\"はじめての\" + \"Python\")"
   ]
  },
  {
   "cell_type": "code",
   "execution_count": null,
   "metadata": {},
   "outputs": [],
   "source": [
    "# 文字列と数値を結合しようとすると、エラーが発生します。\n",
    "# 文字列と数値は異なるデータ型であるため、直接結合することはできません。\n",
    "\n",
    "# エラーの例を見てみましょう。\n",
    "print(\"python\" + 3)"
   ]
  },
  {
   "attachments": {},
   "cell_type": "markdown",
   "metadata": {},
   "source": [
    "### 演習\n",
    "Use print function to output the result (print関数を使って答えを出力してください。)\n",
    "\n",
    "1. Print the sentence \"寿司が食べたい\". (文章「寿司が食べたい」を出力してください。)\n",
    "2. Print 3 - 7 (3 - 7 の計算結果を出力してください。)\n",
    "3. print \"3 - 7\"　(\"3 - 7\" の計算式を出力してください。)"
   ]
  },
  {
   "attachments": {},
   "cell_type": "markdown",
   "metadata": {},
   "source": [
    "#### 答え"
   ]
  },
  {
   "cell_type": "code",
   "execution_count": null,
   "metadata": {},
   "outputs": [],
   "source": [
    "#1\n"
   ]
  },
  {
   "cell_type": "code",
   "execution_count": null,
   "metadata": {},
   "outputs": [],
   "source": [
    "#2\n"
   ]
  },
  {
   "cell_type": "code",
   "execution_count": null,
   "metadata": {},
   "outputs": [],
   "source": [
    "#3\n"
   ]
  },
  {
   "attachments": {},
   "cell_type": "markdown",
   "metadata": {},
   "source": [
    "### Variables\n",
    "変数は、プログラムでデータを格納するための基本的な仕組みです。"
   ]
  },
  {
   "cell_type": "code",
   "execution_count": null,
   "metadata": {},
   "outputs": [],
   "source": [
    "# メッセージを格納する変数を作成し、それを出力してみましょう。\n",
    "message = \"こんにちは！\"  # 「message」という変数に\"こんにちは！\"という文字列を格納します。\n",
    "print(message)  # 「message」変数の値を出力します。\n",
    "\n",
    "\n",
    "print(\"message\")  # 文字列\"message\"を出力します。\n"
   ]
  },
  {
   "cell_type": "code",
   "execution_count": null,
   "metadata": {},
   "outputs": [],
   "source": [
    "# 数字も変数として扱うことができます。\n",
    "a = 3  # 「a」という変数に数値3を格納します。\n",
    "b = 4  # 「b」という変数に数値4を格納します。\n",
    "\n",
    "# 変数に格納された値を出力してみましょう。\n",
    "print(a)  # 「a」変数の値を出力します。\n",
    "print(b)  # 「b」変数の値を出力します。\n",
    "\n",
    "# 変数同士を演算することもできます。\n",
    "print(a + b)  # 「a」と「b」の値を足し合わせた結果を出力します。"
   ]
  },
  {
   "cell_type": "code",
   "execution_count": null,
   "metadata": {},
   "outputs": [],
   "source": [
    "a = 35  # 「a」という変数に数値35を格納します。\n",
    "b = 40  # 「b」という変数に数値40を格納します。\n",
    "\n",
    "# 変数同士を演算して結果を格納し、それを出力します。\n",
    "c = a + b  # 「a」と「b」の値を足し合わせた結果を変数「c」に格納します。\n",
    "c = a - b  # 「a」と「b」の値を引いた結果を変数'c'に格納します。\n",
    "print(c)  # 「c」変数の値を出力します。"
   ]
  },
  {
   "attachments": {},
   "cell_type": "markdown",
   "metadata": {},
   "source": [
    "### 演習\n",
    "Use print function to output the result (print関数を使って答えを出力してください。)\n",
    "\n",
    "1. Create 2 variables first_name and last_name using your first and last name (自分の名字と名前を使用して、first_nameとlast_nameという2つの変数を作成してください)\n",
    "2. print the two variables in one line (first_nameとlast_nameの変数を1行で出力してください)\n",
    "3. Using variables print a/b (変数を使用して、a/b の答えを出力してください。)\n"
   ]
  },
  {
   "attachments": {},
   "cell_type": "markdown",
   "metadata": {},
   "source": [
    "#### 答え"
   ]
  },
  {
   "cell_type": "code",
   "execution_count": null,
   "metadata": {},
   "outputs": [],
   "source": []
  },
  {
   "attachments": {},
   "cell_type": "markdown",
   "metadata": {},
   "source": [
    "### Data Types\n",
    "\n",
    "変数には様々な「型」が存在します<br>\n",
    "Pythonでは、変数を宣言する際に代入されるデータから型が推測、暗黙的に決定されます。"
   ]
  },
  {
   "cell_type": "code",
   "execution_count": null,
   "metadata": {},
   "outputs": [],
   "source": [
    "# 整数型(integer, int)\n",
    "int_variable = 3\n",
    "\n",
    "# 浮動小数点型(float)\n",
    "float_variable = 3.1415\n",
    "\n",
    "# 文字列型(string, str)\n",
    "string_variable = \"hello, hi!\"\n",
    "\n",
    "# リスト型(list)\n",
    "# 詳しくは次に説明します\n",
    "list_variable = [1, 2, 3] #ベクトルのようなもの\n",
    "\n",
    "\n",
    "# 変数の型は type() 関数を使うと調べることができます\n",
    "print(type(int_variable))"
   ]
  },
  {
   "cell_type": "code",
   "execution_count": null,
   "metadata": {},
   "outputs": [],
   "source": [
    "print(type(1))  # 数値1のデータ型を出力します。\n",
    "print(type(1 + 1))  # 数値1と1を足した結果のデータ型を出力します。"
   ]
  },
  {
   "attachments": {},
   "cell_type": "markdown",
   "metadata": {},
   "source": [
    "### 演習\n",
    "Use print function to output the result (print関数を使って答えを出力してください。)\n",
    "\n",
    "1. Check the type of the other variables - float_variable,string_variable, list_variable - (他の変数-float_variable,string_variable, list_variable-のデータ型をチェックしてください。)\n",
    "2. What is the type when you add 2 float-type variable? ( float型の変数2つを足した場合のデータ型は何ですか？)\n",
    "3. What is the type when you add 1 int-type and 1 float variable? (int型の変数とfloat型の変数を足した場合のデータ型は何ですか？)\n",
    "4. What happen when you add a string to a int (or float)? Explain. Use # to comment the explanation (文字列とint型（またはfloat型）を足した場合、何が起こりますか？説明してください。#(半角英数字)を使ってコメント形式で入力してください。)"
   ]
  },
  {
   "attachments": {},
   "cell_type": "markdown",
   "metadata": {},
   "source": [
    "#### 答え"
   ]
  },
  {
   "cell_type": "code",
   "execution_count": null,
   "metadata": {},
   "outputs": [],
   "source": []
  },
  {
   "attachments": {},
   "cell_type": "markdown",
   "metadata": {},
   "source": [
    "### Lists\n",
    "\n",
    "一つの変数に複数の値を保持できるような形のことを「リスト」と呼びます<br>"
   ]
  },
  {
   "cell_type": "code",
   "execution_count": null,
   "metadata": {},
   "outputs": [],
   "source": [
    "# リスト（配列）\n",
    "# リストは、複数の値をまとめて格納するためのデータ型です。\n",
    "fruit_list = [\"apple\", \"orange\", \"melon\", \"banana\"] # [ ]を使って要素を列挙し、カンマで区切ります。\n",
    "\n",
    "# リストを出力してみましょう。\n",
    "print(fruit_list) "
   ]
  },
  {
   "cell_type": "code",
   "execution_count": null,
   "metadata": {},
   "outputs": [],
   "source": [
    "print(len(fruit_list)) # fruit_listの要素の数（長さ）を出力します。\n",
    "# リストの要素にアクセスして出力してみましょう。\n",
    "print(fruit_list[0])  # インデックス0の要素を出力します。\n",
    "\n",
    "# リストの要素にアクセスして出力してみましょう。\n",
    "print(fruit_list[2])  # インデックス0の要素を出力します。"
   ]
  },
  {
   "cell_type": "code",
   "execution_count": null,
   "metadata": {},
   "outputs": [],
   "source": [
    "\n",
    "# リストの最後の要素にアクセスして出力してみましょう。\n",
    "print( fruit_list[-1])  # インデックス-1の要素を出力します。\n",
    "\n",
    "# リストの一部をスライスして取り出してみましょう。         \n",
    "print(fruit_list[1:3])  # インデックス1からインデックス3の一つ手前までの要素を出力します"
   ]
  },
  {
   "cell_type": "code",
   "execution_count": null,
   "metadata": {},
   "outputs": [],
   "source": [
    "# リストのデータ型を出力してみましょう。\n",
    "print(type(fruit_list))  # リストのデータ型を出力します。\n",
    "\n",
    "# リスト内の要素のデータ型を出力してみましょう。\n",
    "print(type(fruit_list[0]))  # インデックス0の要素のデータ型を出力します。"
   ]
  },
  {
   "cell_type": "code",
   "execution_count": null,
   "metadata": {},
   "outputs": [],
   "source": [
    "#数字もできる。\n",
    "my_list = [10, 25, 37, 49]  \n",
    "\n",
    "# リストの要素にアクセスして出力してみましょう。\n",
    "print(my_list[0])  # インデックス0の要素を出力します。\n",
    "\n",
    "# リストのデータ型を出力してみましょう。\n",
    "print(type(my_list))  # リストのデータ型を出力します。\n",
    "\n",
    "# リスト内の要素のデータ型を出力してみましょう。\n",
    "print(type(my_list[0]))  # インデックス0の要素のデータ型を出力します。\n",
    "\n",
    "# リストの要素同士を演算して結果を出力してみましょう。\n",
    "print(my_list[1] + my_list[2])  # インデックス1の要素とインデックス2の要素を足し合わせて出力します。\n"
   ]
  },
  {
   "cell_type": "code",
   "execution_count": null,
   "metadata": {},
   "outputs": [],
   "source": [
    "mix_list = [10, \"Hello\", 37.99, \"楽しい\"]  # 様々なデータ型を含むリストmix_listを作成します。\n",
    "print(mix_list)  # mix_listを出力します。\n"
   ]
  },
  {
   "attachments": {},
   "cell_type": "markdown",
   "metadata": {},
   "source": [
    "### 演習\n",
    "\n",
    "1. Create a new list prime_list with the first 4 prime numbers and print the list. (新しいリストprime_listを作成し、最初の4つの素数を要素として持たせ、リストを出力してください)\n",
    "2. Create a float list float_list with 10 float numbers  and print the list. (新しい浮動小数点数のリストfloat_listを作成し、自由に5つの浮動小数点数を要素として持たせ、リストを出力してください。)\n",
    "3. print the 3rd element of the float list. (float listの3番目の要素を出力してください。)\n",
    "4. print the  5th to 8th element of the float list - 8th element included. (float listの5番目から8番目の要素を出力してくださいー 8番目を含む。)"
   ]
  },
  {
   "attachments": {},
   "cell_type": "markdown",
   "metadata": {},
   "source": [
    "#### 答え"
   ]
  },
  {
   "cell_type": "code",
   "execution_count": null,
   "metadata": {},
   "outputs": [],
   "source": []
  }
 ],
 "metadata": {
  "kernelspec": {
   "display_name": "lecture",
   "language": "python",
   "name": "python3"
  },
  "language_info": {
   "codemirror_mode": {
    "name": "ipython",
    "version": 3
   },
   "file_extension": ".py",
   "mimetype": "text/x-python",
   "name": "python",
   "nbconvert_exporter": "python",
   "pygments_lexer": "ipython3",
   "version": "3.10.6"
  },
  "orig_nbformat": 4
 },
 "nbformat": 4,
 "nbformat_minor": 2
}
